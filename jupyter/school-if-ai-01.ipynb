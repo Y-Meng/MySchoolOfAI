{
 "cells": [
  {
   "cell_type": "markdown",
   "metadata": {},
   "source": [
    "# 0.课前准备\n",
    "\n",
    "\t* Python\n",
    "\t* Jupyter\n",
    "\t* Git\n",
    "\t* 数学基础（线性代数，微积分，最优化）\n",
    "\n",
    "\n",
    "* 讲师：王奇文\n",
    "\n",
    "* 地址：双清路77号院双清大厦4号楼4层清华数据科学研究院\n",
    "\n",
    "* 时间：4月21号 下午5点开始"
   ]
  },
  {
   "cell_type": "code",
   "execution_count": null,
   "metadata": {},
   "outputs": [],
   "source": []
  },
  {
   "cell_type": "code",
   "execution_count": null,
   "metadata": {},
   "outputs": [],
   "source": []
  }
 ],
 "metadata": {
  "kernelspec": {
   "display_name": "Python 3",
   "language": "python",
   "name": "python3"
  },
  "language_info": {
   "codemirror_mode": {
    "name": "ipython",
    "version": 3
   },
   "file_extension": ".py",
   "mimetype": "text/x-python",
   "name": "python",
   "nbconvert_exporter": "python",
   "pygments_lexer": "ipython3",
   "version": "3.6.5"
  }
 },
 "nbformat": 4,
 "nbformat_minor": 2
}
